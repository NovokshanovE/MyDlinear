{
 "cells": [
  {
   "cell_type": "code",
   "execution_count": 1,
   "metadata": {},
   "outputs": [],
   "source": [
    "import torch\n",
    "import torch.nn as nn\n",
    "import torch.optim as optim\n",
    "import torch.nn.functional as F\n",
    "\n",
    "import pandas as pd\n",
    "import matplotlib.pyplot as plt"
   ]
  },
  {
   "cell_type": "code",
   "execution_count": 2,
   "metadata": {},
   "outputs": [
    {
     "name": "stdout",
     "output_type": "stream",
     "text": [
      "17420\n"
     ]
    }
   ],
   "source": [
    "data = pd.read_csv(\"ETTh1.csv\")\n",
    "ts = data.HUFL\n",
    "ts.head(10)\n",
    "\n",
    "ts.rolling(2).mean().head(10)\n",
    "\n",
    "print(len(ts))"
   ]
  },
  {
   "cell_type": "code",
   "execution_count": 3,
   "metadata": {},
   "outputs": [],
   "source": [
    "ts_tensor = torch.Tensor(ts).reshape(1, 1, -1)\n",
    "\n",
    "kernel = [0.5, 0.5]\n",
    "kernel_tensor = torch.Tensor(kernel).reshape(1, 1, -1)\n",
    "F.conv1d(ts_tensor, kernel_tensor)\n",
    "\n",
    "X = data.HUFL\n",
    "X_tensor = torch.Tensor(X).reshape(1,1,-1)"
   ]
  },
  {
   "cell_type": "code",
   "execution_count": 4,
   "metadata": {},
   "outputs": [
    {
     "data": {
      "text/plain": [
       "tensor([[[ 5.4250,  5.3848,  5.6796,  ..., -2.3710,  0.7234,  3.0008]]])"
      ]
     },
     "execution_count": 4,
     "metadata": {},
     "output_type": "execute_result"
    }
   ],
   "source": [
    "y = data.HUFL.rolling(5).mean()\n",
    "y = y[4:, ].to_numpy()\n",
    "y_tensor = torch.Tensor(y).reshape(1,1,-1)\n",
    "y_tensor"
   ]
  },
  {
   "cell_type": "code",
   "execution_count": 6,
   "metadata": {},
   "outputs": [],
   "source": [
    "net = nn.Conv1d(1, 1, 5, padding_mode = \"reflect\", bias = False)"
   ]
  },
  {
   "cell_type": "code",
   "execution_count": 7,
   "metadata": {},
   "outputs": [
    {
     "data": {
      "text/plain": [
       "array([[[-0.07603097, -0.38288236,  0.17074347,  0.14709944,\n",
       "         -0.23474261]]], dtype=float32)"
      ]
     },
     "execution_count": 7,
     "metadata": {},
     "output_type": "execute_result"
    }
   ],
   "source": [
    "net.weight.data.numpy()"
   ]
  },
  {
   "cell_type": "code",
   "execution_count": 8,
   "metadata": {},
   "outputs": [
    {
     "data": {
      "text/plain": [
       "tensor([[[-2.2513, -2.0708, -2.2809,  ..., -0.7930, -1.9559,  1.6958]]],\n",
       "       grad_fn=<ConvolutionBackward0>)"
      ]
     },
     "execution_count": 8,
     "metadata": {},
     "output_type": "execute_result"
    }
   ],
   "source": [
    "net(X_tensor)"
   ]
  },
  {
   "cell_type": "code",
   "execution_count": 9,
   "metadata": {},
   "outputs": [],
   "source": [
    "optimizer = optim.Adam(net.parameters(), lr=0.01)"
   ]
  },
  {
   "cell_type": "code",
   "execution_count": 10,
   "metadata": {},
   "outputs": [
    {
     "name": "stdout",
     "output_type": "stream",
     "text": [
      "[0] loss: 177.885\n",
      "[[[-0.06603097 -0.37288237  0.18074347  0.15709944 -0.2247426 ]]]\n",
      "[50] loss: 1.784\n",
      "[[[ 0.22371961 -0.08539155  0.4600972   0.43342796  0.05373042]]]\n",
      "[100] loss: 0.674\n",
      "[[[ 0.22284956 -0.09144803  0.4308523   0.3969345   0.0255057 ]]]\n",
      "[150] loss: 0.557\n",
      "[[[ 0.23988208 -0.07709083  0.42061907  0.38177294  0.02372365]]]\n",
      "[200] loss: 0.480\n",
      "[[[ 0.2517562  -0.06472018  0.40843755  0.36749545  0.02749188]]]\n",
      "[250] loss: 0.419\n",
      "[[[ 0.25936323 -0.05368206  0.39533404  0.35455734  0.03595959]]]\n",
      "[300] loss: 0.365\n",
      "[[[ 0.2640176  -0.04324064  0.38185886  0.34258476  0.04733851]]]\n",
      "[350] loss: 0.316\n",
      "[[[ 0.2667897  -0.03284806  0.3683762   0.33117232  0.06006058]]]\n",
      "[400] loss: 0.272\n",
      "[[[ 0.26833376 -0.02221023  0.35516074  0.32011384  0.07309186]]]\n",
      "[450] loss: 0.232\n",
      "[[[ 0.2689717  -0.01123794  0.34241635  0.30936936  0.08584263]]]\n",
      "[500] loss: 0.197\n",
      "[[[2.6884454e-01 3.8913277e-05 3.3028793e-01 2.9898533e-01 9.8000199e-02]]]\n",
      "[550] loss: 0.166\n",
      "[[[0.26802373 0.01153684 0.318871   0.28903466 0.10940262]]]\n",
      "[600] loss: 0.139\n",
      "[[[0.26656738 0.02315415 0.30822045 0.2795857  0.11996806]]]\n",
      "[650] loss: 0.117\n",
      "[[[0.26454088 0.03478679 0.29835826 0.27069148 0.1296612 ]]]\n",
      "[700] loss: 0.097\n",
      "[[[0.26202005 0.04633502 0.2892804  0.26238784 0.13847794]]]\n",
      "[750] loss: 0.080\n",
      "[[[0.25908843 0.05770598 0.28096294 0.25469494 0.14643656]]]\n",
      "[800] loss: 0.066\n",
      "[[[0.25583318 0.06881543 0.2733682  0.24761958 0.15357174]]]\n",
      "[850] loss: 0.054\n",
      "[[[0.25234136 0.07958863 0.26644903 0.24115753 0.15992977]]]\n",
      "[900] loss: 0.044\n",
      "[[[0.2486965  0.08996106 0.26015344 0.23529568 0.16556437]]]\n",
      "[950] loss: 0.036\n",
      "[[[0.24497595 0.09987891 0.25442755 0.23001423 0.17053317]]]\n",
      "[1000] loss: 0.029\n",
      "[[[0.24124917 0.10929912 0.24921855 0.22528782 0.17489514]]]\n"
     ]
    }
   ],
   "source": [
    "running_loss = 0.0\n",
    "for iteration in range(1001):\n",
    "    # Zeroing gradients. For more,\n",
    "    # see: https://stackoverflow.com/questions/48001598/why-do-we-need-to-call-zero-grad-in-pytorch\n",
    "    optimizer.zero_grad()\n",
    "\n",
    "    # Forward propagation\n",
    "    outputs = net(X_tensor)  \n",
    "\n",
    "    # Mean squared error\n",
    "    loss_value = torch.mean((outputs - y_tensor)**2)\n",
    "\n",
    "    # Computing gradients\n",
    "    loss_value.backward()\n",
    "\n",
    "    # Changing network parameters with optimizer\n",
    "    optimizer.step()\n",
    "\n",
    "    # Extractin loss value from tensor\n",
    "    running_loss += loss_value.item()\n",
    "\n",
    "    if iteration % 50 == 0:\n",
    "        print('[%d] loss: %.3f' % (iteration, loss_value.item()))\n",
    "        print(net.weight.data.numpy())"
   ]
  },
  {
   "cell_type": "code",
   "execution_count": null,
   "metadata": {},
   "outputs": [],
   "source": [
    "plt.plot(data['HUFL'])\n",
    "plt.savefig(\"data\", dpi=1000)"
   ]
  }
 ],
 "metadata": {
  "kernelspec": {
   "display_name": "MyDLinear",
   "language": "python",
   "name": "python3"
  },
  "language_info": {
   "codemirror_mode": {
    "name": "ipython",
    "version": 3
   },
   "file_extension": ".py",
   "mimetype": "text/x-python",
   "name": "python",
   "nbconvert_exporter": "python",
   "pygments_lexer": "ipython3",
   "version": "3.11.6"
  }
 },
 "nbformat": 4,
 "nbformat_minor": 2
}
