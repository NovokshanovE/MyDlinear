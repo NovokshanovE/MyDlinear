{
 "cells": [
  {
   "cell_type": "code",
   "execution_count": 19,
   "metadata": {},
   "outputs": [],
   "source": [
    "\n",
    "import torch\n",
    "import torch.nn as nn\n",
    "import torch.optim as optim\n",
    "import pandas as pd\n",
    "from sklearn.metrics import mean_squared_error, mean_absolute_error\n",
    "from torch.utils.data import DataLoader, TensorDataset\n",
    "import matplotlib.pyplot as plt\n",
    "from decomposition import DecompositionLayer\n",
    "torch.set_num_threads(9)\n",
    "\n",
    "class MyDataset(TensorDataset):\n",
    "    def __init__(self, data, window):\n",
    "        self.data = data\n",
    "        self.window = window\n",
    "\n",
    "    def __getitem__(self, index):\n",
    "        x = self.data[index:index+self.window]\n",
    "        return x\n",
    "\n",
    "    def __len__(self):\n",
    "        return len(self.data) - self.window"
   ]
  },
  {
   "cell_type": "code",
   "execution_count": 20,
   "metadata": {},
   "outputs": [],
   "source": [
    "input_size = 15\n",
    "pred = input_size\n",
    "learning_rate = 0.0001\n",
    "\n",
    "data_size  = 4000\n",
    "step = 10\n",
    "m = 10 #на сколько шагов предсказать\n",
    "data_set = 9000\n",
    "model_name = \"update_model_v1\""
   ]
  },
  {
   "cell_type": "code",
   "execution_count": 21,
   "metadata": {},
   "outputs": [],
   "source": [
    "class DecompositionLayer(nn.Module):\n",
    "    \"\"\"\n",
    "    Returns the trend and the seasonal parts of the time series.\n",
    "    \"\"\"\n",
    "\n",
    "    def __init__(self, kernel_size):\n",
    "        super().__init__()\n",
    "        self.kernel_size = kernel_size\n",
    "        self.avg = nn.AvgPool1d(kernel_size=kernel_size, stride=1, padding=0) # moving average \n",
    "\n",
    "    def forward(self, x):\n",
    "        \"\"\"Input shape: Batch x Time x EMBED_DIM\"\"\"\n",
    "        # padding on the both ends of time series\n",
    "        num_of_pads = (self.kernel_size) // 2\n",
    "        front = x[:, 0:1, :].repeat(1, num_of_pads, 1)\n",
    "        end = x[:, -1:, :].repeat(1, num_of_pads, 1)\n",
    "        x_padded = torch.cat([front, x, end], dim=1)\n",
    "\n",
    "        # calculate the trend and seasonal part of the series\n",
    "        x_trend = self.avg(x_padded.permute(0, 2, 1)).permute(0, 2, 1)\n",
    "        #print(x_trend.shape)\n",
    "        x_seasonal = x - x_trend\n",
    "        return x_seasonal, x_trend"
   ]
  },
  {
   "cell_type": "code",
   "execution_count": 22,
   "metadata": {},
   "outputs": [],
   "source": [
    "class DLinearModel(nn.Module):\n",
    "    def __init__(self, input_size):\n",
    "        super(DLinearModel, self).__init__()\n",
    "        self.linear_seasonal = nn.Linear(input_size, 1)\n",
    "        self.linear_trend = nn.Linear(input_size, 1)\n",
    "        self.decomposition = DecompositionLayer(input_size)\n",
    "        self.bias = nn.Parameter(torch.zeros(1))\n",
    "        \n",
    "    def forward(self, context):\n",
    "        seasonal, trend = self.decomposition(context)\n",
    "        #print(seasonal, trend)\n",
    "        seasonal_output = self.linear_seasonal(seasonal.reshape(1, 1, -1))\n",
    "        trend_output = self.linear_trend(trend.reshape(1, 1, -1))\n",
    "        \n",
    "        return seasonal_output + trend_output\n",
    "\n",
    "\n",
    "def train_model(model, dataloader, criterion, optimizer, num_epochs=100):\n",
    "    for epoch in range(num_epochs):\n",
    "        print(\"Epoch = \", epoch)\n",
    "        for X in dataloader:\n",
    "            \n",
    "            optimizer.zero_grad()\n",
    "            output = model.forward(X)\n",
    "            loss = criterion(output, X)\n",
    "            loss.backward()\n",
    "            optimizer.step()\n"
   ]
  },
  {
   "cell_type": "code",
   "execution_count": 23,
   "metadata": {},
   "outputs": [],
   "source": [
    "\n",
    "data = pd.read_csv('ETTh1.csv')  \n",
    "X = torch.tensor(data['HUFL'].values[:data_size:step], dtype=torch.float32).view(-1, 1)\n",
    "x = pd.read_csv(\"ETTh1.csv\").HUFL"
   ]
  },
  {
   "cell_type": "code",
   "execution_count": 24,
   "metadata": {},
   "outputs": [],
   "source": [
    "model = DLinearModel(input_size)\n",
    "criterion = nn.SmoothL1Loss()\n",
    "optimizer = optim.SGD(model.parameters(), lr=learning_rate)\n",
    "#optimizer = optim.Adam(model.parameters(), lr=learning_rate)\n",
    "\n",
    "\n",
    "window_size = input_size  # Размер окна для rolling window forecasting\n",
    "#переписать\n",
    "\n",
    "dataset = MyDataset(X, window_size)\n",
    "\n",
    "#print(x.rolling(window_size))\n",
    "\n",
    "dataloader = DataLoader(dataset)#, shuffle=True)"
   ]
  },
  {
   "cell_type": "code",
   "execution_count": 25,
   "metadata": {},
   "outputs": [
    {
     "data": {
      "text/plain": [
       "385"
      ]
     },
     "execution_count": 25,
     "metadata": {},
     "output_type": "execute_result"
    }
   ],
   "source": [
    "len(dataloader)"
   ]
  },
  {
   "cell_type": "code",
   "execution_count": 26,
   "metadata": {},
   "outputs": [],
   "source": [
    "#train_model(model, dataloader, criterion, optimizer)\n"
   ]
  },
  {
   "cell_type": "code",
   "execution_count": 27,
   "metadata": {},
   "outputs": [],
   "source": [
    "#torch.save(model.state_dict(), model_name)"
   ]
  },
  {
   "cell_type": "code",
   "execution_count": 28,
   "metadata": {},
   "outputs": [
    {
     "data": {
      "text/plain": [
       "DLinearModel(\n",
       "  (linear_seasonal): Linear(in_features=15, out_features=1, bias=True)\n",
       "  (linear_trend): Linear(in_features=15, out_features=1, bias=True)\n",
       "  (decomposition): DecompositionLayer(\n",
       "    (avg): AvgPool1d(kernel_size=(15,), stride=(1,), padding=(0,))\n",
       "  )\n",
       ")"
      ]
     },
     "execution_count": 28,
     "metadata": {},
     "output_type": "execute_result"
    }
   ],
   "source": [
    "model.load_state_dict(torch.load(model_name))\n",
    "model.eval()"
   ]
  },
  {
   "cell_type": "code",
   "execution_count": 29,
   "metadata": {},
   "outputs": [
    {
     "data": {
      "text/plain": [
       "<bound method Module.parameters of DLinearModel(\n",
       "  (linear_seasonal): Linear(in_features=15, out_features=1, bias=True)\n",
       "  (linear_trend): Linear(in_features=15, out_features=1, bias=True)\n",
       "  (decomposition): DecompositionLayer(\n",
       "    (avg): AvgPool1d(kernel_size=(15,), stride=(1,), padding=(0,))\n",
       "  )\n",
       ")>"
      ]
     },
     "execution_count": 29,
     "metadata": {},
     "output_type": "execute_result"
    }
   ],
   "source": [
    "model.parameters"
   ]
  },
  {
   "cell_type": "code",
   "execution_count": 30,
   "metadata": {},
   "outputs": [],
   "source": [
    "def predict_future_values(model, X_f, window_size, m):\n",
    "    #predicted_values = initial_values.clone().detach().view(-1).tolist()\n",
    "    predicted_values = []\n",
    "    \n",
    "    for i in range(m):\n",
    "        \n",
    "        \n",
    "        #проверить что модель принимает нужный набор значений\n",
    "        #last_X = torch.tensor([predicted_values[-1]], dtype=torch.float32).view(-1, 1)\n",
    "        # last_X_t = torch.tensor([predicted_values[-1]], dtype=torch.float32).view(-1, 1)\n",
    "        \n",
    "        prediction = model(X_f)\n",
    "\n",
    "        \n",
    "        predicted_values.append(prediction.tolist()[-1][-1][-1])\n",
    "        if(window_size > i):\n",
    "            \n",
    "            X_f = torch.tensor(data['HUFL'].values[data_size-window_size+i+1::step] + predicted_values, dtype=torch.float32).reshape(1, 1, -1)\n",
    "        else:\n",
    "            X_f = torch.tensor(predicted_values, dtype=torch.float32).reshape(1, 1, -1)\n",
    "            \n",
    "        \n",
    "\n",
    "    return predicted_values"
   ]
  },
  {
   "cell_type": "code",
   "execution_count": 31,
   "metadata": {},
   "outputs": [
    {
     "name": "stdout",
     "output_type": "stream",
     "text": [
      "tensor([[  5.8270],\n",
      "        [  7.1000],\n",
      "        [  9.5780],\n",
      "        [ -7.5690],\n",
      "        [  9.9800],\n",
      "        [ -4.2870],\n",
      "        [ 15.8740],\n",
      "        [  9.3100],\n",
      "        [  1.8750],\n",
      "        [ 14.9370],\n",
      "        [-10.2480],\n",
      "        [ 13.8650],\n",
      "        [  2.0760],\n",
      "        [ 11.6550],\n",
      "        [ 15.4720]])\n",
      "tensor([[  5.8270],\n",
      "        [  7.1000],\n",
      "        [  9.5780],\n",
      "        [ -7.5690],\n",
      "        [  9.9800],\n",
      "        [ -4.2870],\n",
      "        [ 15.8740],\n",
      "        [  9.3100],\n",
      "        [  1.8750],\n",
      "        [ 14.9370],\n",
      "        [-10.2480],\n",
      "        [ 13.8650],\n",
      "        [  2.0760],\n",
      "        [ 11.6550],\n",
      "        [ 15.4720]])\n"
     ]
    },
    {
     "data": {
      "text/plain": [
       "tensor([[  5.8270],\n",
       "        [  7.1000],\n",
       "        [  9.5780],\n",
       "        [ -7.5690],\n",
       "        [  9.9800],\n",
       "        [ -4.2870],\n",
       "        [ 15.8740],\n",
       "        [  9.3100],\n",
       "        [  1.8750],\n",
       "        [ 14.9370],\n",
       "        [-10.2480],\n",
       "        [ 13.8650],\n",
       "        [  2.0760],\n",
       "        [ 11.6550],\n",
       "        [ 15.4720]])"
      ]
     },
     "execution_count": 31,
     "metadata": {},
     "output_type": "execute_result"
    }
   ],
   "source": [
    "initial_values = torch.cat([X[-input_size:]]).reshape(1, 1, -1)\n",
    "\n",
    "pred = input_size\n",
    "X_f = torch.tensor(data['HUFL'].values[data_set-pred:data_set-pred+pred*step:step], dtype=torch.float32).view(-1, 1)\n",
    "print(X_f)\n",
    "dataset_f = MyDataset(X_f, pred)\n",
    "print(dataset_f.data)\n",
    "#print(x.rolling(window_size))\n",
    "\n",
    "dataloader_f = DataLoader(dataset_f)#, shuffle=True)\n",
    "\n",
    "X_f\n"
   ]
  },
  {
   "cell_type": "code",
   "execution_count": 32,
   "metadata": {},
   "outputs": [
    {
     "data": {
      "text/plain": [
       "[[5.827000141143799],\n",
       " [7.099999904632568],\n",
       " [9.57800006866455],\n",
       " [-7.568999767303467],\n",
       " [9.979999542236328],\n",
       " [-4.2870001792907715],\n",
       " [15.87399959564209],\n",
       " [9.3100004196167],\n",
       " [1.875],\n",
       " [14.937000274658203],\n",
       " [-10.248000144958496],\n",
       " [13.864999771118164],\n",
       " [2.0759999752044678],\n",
       " [11.654999732971191],\n",
       " [15.472000122070312]]"
      ]
     },
     "execution_count": 32,
     "metadata": {},
     "output_type": "execute_result"
    }
   ],
   "source": [
    "X_t = X_f.tolist()\n",
    "X_t"
   ]
  },
  {
   "cell_type": "code",
   "execution_count": 33,
   "metadata": {},
   "outputs": [
    {
     "name": "stdout",
     "output_type": "stream",
     "text": [
      "tensor([[[  5.8270],\n",
      "         [  7.1000],\n",
      "         [  9.5780],\n",
      "         [ -7.5690],\n",
      "         [  9.9800],\n",
      "         [ -4.2870],\n",
      "         [ 15.8740],\n",
      "         [  9.3100],\n",
      "         [  1.8750],\n",
      "         [ 14.9370],\n",
      "         [-10.2480],\n",
      "         [ 13.8650],\n",
      "         [  2.0760],\n",
      "         [ 11.6550],\n",
      "         [ 15.4720]]])\n",
      "tensor([[[  7.1000],\n",
      "         [  9.5780],\n",
      "         [ -7.5690],\n",
      "         [  9.9800],\n",
      "         [ -4.2870],\n",
      "         [ 15.8740],\n",
      "         [  9.3100],\n",
      "         [  1.8750],\n",
      "         [ 14.9370],\n",
      "         [-10.2480],\n",
      "         [ 13.8650],\n",
      "         [  2.0760],\n",
      "         [ 11.6550],\n",
      "         [ 15.4720],\n",
      "         [  5.9928]]])\n",
      "tensor([[[  9.5780],\n",
      "         [ -7.5690],\n",
      "         [  9.9800],\n",
      "         [ -4.2870],\n",
      "         [ 15.8740],\n",
      "         [  9.3100],\n",
      "         [  1.8750],\n",
      "         [ 14.9370],\n",
      "         [-10.2480],\n",
      "         [ 13.8650],\n",
      "         [  2.0760],\n",
      "         [ 11.6550],\n",
      "         [ 15.4720],\n",
      "         [  5.9928],\n",
      "         [  5.8748]]])\n",
      "tensor([[[ -7.5690],\n",
      "         [  9.9800],\n",
      "         [ -4.2870],\n",
      "         [ 15.8740],\n",
      "         [  9.3100],\n",
      "         [  1.8750],\n",
      "         [ 14.9370],\n",
      "         [-10.2480],\n",
      "         [ 13.8650],\n",
      "         [  2.0760],\n",
      "         [ 11.6550],\n",
      "         [ 15.4720],\n",
      "         [  5.9928],\n",
      "         [  5.8748],\n",
      "         [  6.2963]]])\n",
      "tensor([[[  9.9800],\n",
      "         [ -4.2870],\n",
      "         [ 15.8740],\n",
      "         [  9.3100],\n",
      "         [  1.8750],\n",
      "         [ 14.9370],\n",
      "         [-10.2480],\n",
      "         [ 13.8650],\n",
      "         [  2.0760],\n",
      "         [ 11.6550],\n",
      "         [ 15.4720],\n",
      "         [  5.9928],\n",
      "         [  5.8748],\n",
      "         [  6.2963],\n",
      "         [  5.7630]]])\n",
      "tensor([[[ -4.2870],\n",
      "         [ 15.8740],\n",
      "         [  9.3100],\n",
      "         [  1.8750],\n",
      "         [ 14.9370],\n",
      "         [-10.2480],\n",
      "         [ 13.8650],\n",
      "         [  2.0760],\n",
      "         [ 11.6550],\n",
      "         [ 15.4720],\n",
      "         [  5.9928],\n",
      "         [  5.8748],\n",
      "         [  6.2963],\n",
      "         [  5.7630],\n",
      "         [  6.9137]]])\n",
      "tensor([[[ 15.8740],\n",
      "         [  9.3100],\n",
      "         [  1.8750],\n",
      "         [ 14.9370],\n",
      "         [-10.2480],\n",
      "         [ 13.8650],\n",
      "         [  2.0760],\n",
      "         [ 11.6550],\n",
      "         [ 15.4720],\n",
      "         [  5.9928],\n",
      "         [  5.8748],\n",
      "         [  6.2963],\n",
      "         [  5.7630],\n",
      "         [  6.9137],\n",
      "         [  6.5639]]])\n",
      "tensor([[[  9.3100],\n",
      "         [  1.8750],\n",
      "         [ 14.9370],\n",
      "         [-10.2480],\n",
      "         [ 13.8650],\n",
      "         [  2.0760],\n",
      "         [ 11.6550],\n",
      "         [ 15.4720],\n",
      "         [  5.9928],\n",
      "         [  5.8748],\n",
      "         [  6.2963],\n",
      "         [  5.7630],\n",
      "         [  6.9137],\n",
      "         [  6.5639],\n",
      "         [  7.0333]]])\n",
      "tensor([[[  1.8750],\n",
      "         [ 14.9370],\n",
      "         [-10.2480],\n",
      "         [ 13.8650],\n",
      "         [  2.0760],\n",
      "         [ 11.6550],\n",
      "         [ 15.4720],\n",
      "         [  5.9928],\n",
      "         [  5.8748],\n",
      "         [  6.2963],\n",
      "         [  5.7630],\n",
      "         [  6.9137],\n",
      "         [  6.5639],\n",
      "         [  7.0333],\n",
      "         [  6.8579]]])\n",
      "tensor([[[ 14.9370],\n",
      "         [-10.2480],\n",
      "         [ 13.8650],\n",
      "         [  2.0760],\n",
      "         [ 11.6550],\n",
      "         [ 15.4720],\n",
      "         [  5.9928],\n",
      "         [  5.8748],\n",
      "         [  6.2963],\n",
      "         [  5.7630],\n",
      "         [  6.9137],\n",
      "         [  6.5639],\n",
      "         [  7.0333],\n",
      "         [  6.8579],\n",
      "         [  6.3377]]])\n"
     ]
    }
   ],
   "source": [
    "\n",
    "predicted_values = []\n",
    "\n",
    "\n",
    "\n",
    "for i in range(m):\n",
    "    \n",
    "    \n",
    "    #проверить что модель принимает нужный набор значений\n",
    "    #last_X = torch.tensor([predicted_values[-1]], dtype=torch.float32).view(-1, 1)\n",
    "    # last_X_t = torch.tensor([predicted_values[-1]], dtype=torch.float32).view(-1, 1)\n",
    "    \n",
    "    \n",
    "    \n",
    "    \n",
    "    X = torch.tensor([X_t])\n",
    "    print(X)\n",
    "    prediction = model(X)\n",
    "    predicted_values.append(prediction.tolist()[-1][-1][-1])\n",
    "    X_next = prediction.tolist()[-1][-1]\n",
    "    \n",
    "    X_t.append(X_next)\n",
    "    X_t = X_t[1:]\n",
    "    dataset_f = MyDataset(X_t, window_size)\n",
    "        \n",
    "    \n",
    "\n",
    "\n",
    "future_predictions = predicted_values"
   ]
  },
  {
   "cell_type": "code",
   "execution_count": 34,
   "metadata": {},
   "outputs": [
    {
     "data": {
      "text/plain": [
       "[5.992799758911133,\n",
       " 5.874821186065674,\n",
       " 6.296329498291016,\n",
       " 5.763010025024414,\n",
       " 6.913690567016602,\n",
       " 6.563852787017822,\n",
       " 7.033273696899414,\n",
       " 6.857858657836914,\n",
       " 6.337687015533447,\n",
       " 6.970926761627197]"
      ]
     },
     "execution_count": 34,
     "metadata": {},
     "output_type": "execute_result"
    }
   ],
   "source": [
    "future_predictions"
   ]
  },
  {
   "cell_type": "code",
   "execution_count": 35,
   "metadata": {},
   "outputs": [
    {
     "data": {
      "text/plain": [
       "10"
      ]
     },
     "execution_count": 35,
     "metadata": {},
     "output_type": "execute_result"
    }
   ],
   "source": [
    "len(future_predictions)"
   ]
  },
  {
   "cell_type": "code",
   "execution_count": 36,
   "metadata": {},
   "outputs": [
    {
     "name": "stdout",
     "output_type": "stream",
     "text": [
      "Future Predictions: [5.992799758911133, 5.874821186065674, 6.296329498291016, 5.763010025024414, 6.913690567016602, 6.563852787017822, 7.033273696899414, 6.857858657836914, 6.337687015533447, 6.970926761627197]\n",
      "10\n"
     ]
    },
    {
     "data": {
      "image/png": "[encoded data removed]",
      "text/plain": [
       "<Figure size 640x480 with 1 Axes>"
      ]
     },
     "metadata": {},
     "output_type": "display_data"
    }
   ],
   "source": [
    "print(\"Future Predictions:\", future_predictions)\n",
    "time = [data_set-m*step+i*step for i in range(2*m)]\n",
    "print(m)\n",
    "plt.plot(time, data['HUFL'].values[data_set-m*step:data_set+(m)*step:step])\n",
    "#plt.plot(, )\n",
    "pred = data['HUFL'].values[data_set-1]\n",
    "time = [data_set+1+i*step for i in range(m)]\n",
    "\n",
    "    \n",
    "plt.plot(time, future_predictions, 'g-')\n",
    "\n",
    "plt.show()\n",
    "\n",
    "\n",
    "\n"
   ]
  }
 ],
 "metadata": {
  "kernelspec": {
   "display_name": "MyDLinear",
   "language": "python",
   "name": "python3"
  },
  "language_info": {
   "codemirror_mode": {
    "name": "ipython",
    "version": 3
   },
   "file_extension": ".py",
   "mimetype": "text/x-python",
   "name": "python",
   "nbconvert_exporter": "python",
   "pygments_lexer": "ipython3",
   "version": "3.11.6"
  }
 },
 "nbformat": 4,
 "nbformat_minor": 2
}
