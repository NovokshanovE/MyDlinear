{
 "cells": [
  {
   "cell_type": "markdown",
   "metadata": {},
   "source": [
    "## Подключение библиотек и определение класса Dataset"
   ]
  },
  {
   "cell_type": "code",
   "execution_count": 15,
   "metadata": {},
   "outputs": [],
   "source": [
    "\n",
    "import torch\n",
    "import torch.nn as nn\n",
    "import torch.optim as optim\n",
    "import pandas as pd\n",
    "from sklearn.metrics import mean_squared_error, mean_absolute_error\n",
    "from torch.utils.data import DataLoader, TensorDataset\n",
    "import matplotlib.pyplot as plt\n",
    "from decomposition import DecompositionLayer\n",
    "torch.set_num_threads(9)\n",
    "\n",
    "class MyDataset(TensorDataset):\n",
    "    def __init__(self, data, window, output):\n",
    "        self.data = data\n",
    "        self.window = window\n",
    "        self.output = output\n",
    "\n",
    "    def __getitem__(self, index):\n",
    "        x = self.data[index:index+self.window]\n",
    "        y = self.data[index+self.window:index+self.window+self.output]\n",
    "        return x, y\n",
    "\n",
    "    def __len__(self):\n",
    "        return len(self.data) - self.window - self.output"
   ]
  },
  {
   "cell_type": "markdown",
   "metadata": {},
   "source": [
    "## Определение параметров модели"
   ]
  },
  {
   "cell_type": "code",
   "execution_count": 16,
   "metadata": {},
   "outputs": [],
   "source": [
    "input_size = 15\n",
    "pred = input_size\n",
    "learning_rate = 0.0001\n",
    "output_size = 20\n",
    "data_size  = 4000\n",
    "step = 10\n",
    "m = 10 #на сколько шагов предсказать\n",
    "data_set = 9000\n",
    "model_name = \"update_model_v2\""
   ]
  },
  {
   "cell_type": "markdown",
   "metadata": {},
   "source": [
    "## Класс деокмпозиции временного ряда для получение сезонной и трендовой составляющей"
   ]
  },
  {
   "cell_type": "code",
   "execution_count": 17,
   "metadata": {},
   "outputs": [],
   "source": [
    "class DecompositionLayer(nn.Module):\n",
    "    \"\"\"\n",
    "    Returns the trend and the seasonal parts of the time series.\n",
    "    \"\"\"\n",
    "\n",
    "    def __init__(self, kernel_size):\n",
    "        super().__init__()\n",
    "        self.kernel_size = kernel_size\n",
    "        self.avg = nn.AvgPool1d(kernel_size=kernel_size, stride=1, padding=0) # moving average \n",
    "\n",
    "    def forward(self, x):\n",
    "        \"\"\"Input shape: Batch x Time x EMBED_DIM\"\"\"\n",
    "        # padding on the both ends of time series\n",
    "        num_of_pads = (self.kernel_size) // 2\n",
    "        front = x[:, 0:1, :].repeat(1, num_of_pads, 1)\n",
    "        end = x[:, -1:, :].repeat(1, num_of_pads, 1)\n",
    "        x_padded = torch.cat([front, x, end], dim=1)\n",
    "\n",
    "        # calculate the trend and seasonal part of the series\n",
    "        x_trend = self.avg(x_padded.permute(0, 2, 1)).permute(0, 2, 1)\n",
    "        #print(x_trend.shape)\n",
    "        x_seasonal = x - x_trend\n",
    "        return x_seasonal, x_trend"
   ]
  },
  {
   "cell_type": "markdown",
   "metadata": {},
   "source": [
    "## Класс DLinear и функция для обучения модели"
   ]
  },
  {
   "cell_type": "code",
   "execution_count": 18,
   "metadata": {},
   "outputs": [],
   "source": [
    "class DLinearModel(nn.Module):\n",
    "    def __init__(self, input_size, output_size):\n",
    "        super(DLinearModel, self).__init__()\n",
    "        self.linear_seasonal = nn.Linear(input_size, output_size)\n",
    "        self.linear_trend = nn.Linear(input_size, output_size)\n",
    "        self.decomposition = DecompositionLayer(input_size)\n",
    "        self.bias = nn.Parameter(torch.zeros(1))\n",
    "        \n",
    "    def forward(self, context):\n",
    "        seasonal, trend = self.decomposition(context)\n",
    "        #print(seasonal, trend)\n",
    "        seasonal_output = self.linear_seasonal(seasonal.reshape(1, 1, -1))\n",
    "        trend_output = self.linear_trend(trend.reshape(1, 1, -1))\n",
    "        \n",
    "        return seasonal_output + trend_output\n",
    "\n",
    "\n",
    "def train_model(model, dataloader, criterion, optimizer, num_epochs=100):\n",
    "    for epoch in range(num_epochs):\n",
    "        print(\"Epoch = \", epoch)\n",
    "        for X, Y in dataloader:\n",
    "            \n",
    "            optimizer.zero_grad()\n",
    "            output = model.forward(X)\n",
    "            loss = criterion(output, Y)\n",
    "            loss.backward()\n",
    "            optimizer.step()\n"
   ]
  },
  {
   "cell_type": "markdown",
   "metadata": {},
   "source": []
  },
  {
   "cell_type": "code",
   "execution_count": 19,
   "metadata": {},
   "outputs": [],
   "source": [
    "\n",
    "data = pd.read_csv('ETTh1.csv')  \n",
    "X = torch.tensor(data['HUFL'].values[:data_size:step], dtype=torch.float32).view(-1, 1)\n",
    "x = pd.read_csv(\"ETTh1.csv\").HUFL"
   ]
  },
  {
   "cell_type": "code",
   "execution_count": 20,
   "metadata": {},
   "outputs": [],
   "source": [
    "model = DLinearModel(input_size, output_size)\n",
    "criterion = nn.SmoothL1Loss()\n",
    "optimizer = optim.SGD(model.parameters(), lr=learning_rate)\n",
    "#optimizer = optim.Adam(model.parameters(), lr=learning_rate)\n",
    "#TODO: переписать dataloader для правильно обучения\n",
    "\n",
    "window_size = input_size  # Размер окна для rolling window forecasting\n",
    "#переписать\n",
    "\n",
    "dataset = MyDataset(X, window_size, output_size)\n",
    "\n",
    "#print(x.rolling(window_size))\n",
    "\n",
    "dataloader = DataLoader(dataset)#, shuffle=True)"
   ]
  },
  {
   "cell_type": "code",
   "execution_count": 21,
   "metadata": {},
   "outputs": [
    {
     "data": {
      "text/plain": [
       "365"
      ]
     },
     "execution_count": 21,
     "metadata": {},
     "output_type": "execute_result"
    }
   ],
   "source": [
    "len(dataloader)"
   ]
  },
  {
   "cell_type": "code",
   "execution_count": 22,
   "metadata": {},
   "outputs": [
    {
     "name": "stdout",
     "output_type": "stream",
     "text": [
      "Epoch =  0\n"
     ]
    },
    {
     "name": "stderr",
     "output_type": "stream",
     "text": [
      "c:\\Users\\evgen\\miniconda3\\envs\\MyDLinear\\Lib\\site-packages\\torch\\nn\\modules\\loss.py:933: UserWarning: Using a target size (torch.Size([1, 20, 1])) that is different to the input size (torch.Size([1, 1, 20])). This will likely lead to incorrect results due to broadcasting. Please ensure they have the same size.\n",
      "  return F.smooth_l1_loss(input, target, reduction=self.reduction, beta=self.beta)\n"
     ]
    },
    {
     "name": "stdout",
     "output_type": "stream",
     "text": [
      "Epoch =  1\n",
      "Epoch =  2\n",
      "Epoch =  3\n",
      "Epoch =  4\n",
      "Epoch =  5\n",
      "Epoch =  6\n",
      "Epoch =  7\n",
      "Epoch =  8\n",
      "Epoch =  9\n",
      "Epoch =  10\n",
      "Epoch =  11\n",
      "Epoch =  12\n",
      "Epoch =  13\n",
      "Epoch =  14\n",
      "Epoch =  15\n",
      "Epoch =  16\n",
      "Epoch =  17\n",
      "Epoch =  18\n",
      "Epoch =  19\n",
      "Epoch =  20\n",
      "Epoch =  21\n",
      "Epoch =  22\n",
      "Epoch =  23\n",
      "Epoch =  24\n",
      "Epoch =  25\n",
      "Epoch =  26\n",
      "Epoch =  27\n",
      "Epoch =  28\n",
      "Epoch =  29\n",
      "Epoch =  30\n",
      "Epoch =  31\n",
      "Epoch =  32\n",
      "Epoch =  33\n",
      "Epoch =  34\n",
      "Epoch =  35\n",
      "Epoch =  36\n",
      "Epoch =  37\n",
      "Epoch =  38\n",
      "Epoch =  39\n",
      "Epoch =  40\n",
      "Epoch =  41\n",
      "Epoch =  42\n",
      "Epoch =  43\n",
      "Epoch =  44\n",
      "Epoch =  45\n",
      "Epoch =  46\n",
      "Epoch =  47\n",
      "Epoch =  48\n",
      "Epoch =  49\n",
      "Epoch =  50\n",
      "Epoch =  51\n",
      "Epoch =  52\n",
      "Epoch =  53\n",
      "Epoch =  54\n",
      "Epoch =  55\n",
      "Epoch =  56\n",
      "Epoch =  57\n",
      "Epoch =  58\n",
      "Epoch =  59\n",
      "Epoch =  60\n",
      "Epoch =  61\n",
      "Epoch =  62\n",
      "Epoch =  63\n",
      "Epoch =  64\n",
      "Epoch =  65\n",
      "Epoch =  66\n",
      "Epoch =  67\n",
      "Epoch =  68\n",
      "Epoch =  69\n",
      "Epoch =  70\n",
      "Epoch =  71\n",
      "Epoch =  72\n",
      "Epoch =  73\n",
      "Epoch =  74\n",
      "Epoch =  75\n",
      "Epoch =  76\n",
      "Epoch =  77\n",
      "Epoch =  78\n",
      "Epoch =  79\n",
      "Epoch =  80\n",
      "Epoch =  81\n",
      "Epoch =  82\n",
      "Epoch =  83\n",
      "Epoch =  84\n",
      "Epoch =  85\n",
      "Epoch =  86\n",
      "Epoch =  87\n",
      "Epoch =  88\n",
      "Epoch =  89\n",
      "Epoch =  90\n",
      "Epoch =  91\n",
      "Epoch =  92\n",
      "Epoch =  93\n",
      "Epoch =  94\n",
      "Epoch =  95\n",
      "Epoch =  96\n",
      "Epoch =  97\n",
      "Epoch =  98\n",
      "Epoch =  99\n"
     ]
    }
   ],
   "source": [
    "train_model(model, dataloader, criterion, optimizer)\n"
   ]
  },
  {
   "cell_type": "code",
   "execution_count": 23,
   "metadata": {},
   "outputs": [],
   "source": [
    "torch.save(model.state_dict(), model_name)"
   ]
  },
  {
   "cell_type": "code",
   "execution_count": 24,
   "metadata": {},
   "outputs": [
    {
     "data": {
      "text/plain": [
       "DLinearModel(\n",
       "  (linear_seasonal): Linear(in_features=15, out_features=20, bias=True)\n",
       "  (linear_trend): Linear(in_features=15, out_features=20, bias=True)\n",
       "  (decomposition): DecompositionLayer(\n",
       "    (avg): AvgPool1d(kernel_size=(15,), stride=(1,), padding=(0,))\n",
       "  )\n",
       ")"
      ]
     },
     "execution_count": 24,
     "metadata": {},
     "output_type": "execute_result"
    }
   ],
   "source": [
    "model.load_state_dict(torch.load(model_name))\n",
    "model.eval()"
   ]
  },
  {
   "cell_type": "code",
   "execution_count": 25,
   "metadata": {},
   "outputs": [
    {
     "data": {
      "text/plain": [
       "<bound method Module.parameters of DLinearModel(\n",
       "  (linear_seasonal): Linear(in_features=15, out_features=20, bias=True)\n",
       "  (linear_trend): Linear(in_features=15, out_features=20, bias=True)\n",
       "  (decomposition): DecompositionLayer(\n",
       "    (avg): AvgPool1d(kernel_size=(15,), stride=(1,), padding=(0,))\n",
       "  )\n",
       ")>"
      ]
     },
     "execution_count": 25,
     "metadata": {},
     "output_type": "execute_result"
    }
   ],
   "source": [
    "model.parameters"
   ]
  },
  {
   "cell_type": "code",
   "execution_count": 26,
   "metadata": {},
   "outputs": [],
   "source": [
    "def predict_future_values(model, X_f, window_size, m):\n",
    "    #predicted_values = initial_values.clone().detach().view(-1).tolist()\n",
    "    predicted_values = []\n",
    "    \n",
    "    for i in range(m):\n",
    "        \n",
    "        \n",
    "        #проверить что модель принимает нужный набор значений\n",
    "        #last_X = torch.tensor([predicted_values[-1]], dtype=torch.float32).view(-1, 1)\n",
    "        # last_X_t = torch.tensor([predicted_values[-1]], dtype=torch.float32).view(-1, 1)\n",
    "        \n",
    "        prediction = model(X_f)\n",
    "\n",
    "        \n",
    "        predicted_values.append(prediction.tolist()[-1][-1][-1])\n",
    "        if(window_size > i):\n",
    "            \n",
    "            X_f = torch.tensor(data['HUFL'].values[data_size-window_size+i+1::step] + predicted_values, dtype=torch.float32).reshape(1, 1, -1)\n",
    "        else:\n",
    "            X_f = torch.tensor(predicted_values, dtype=torch.float32).reshape(1, 1, -1)\n",
    "            \n",
    "        \n",
    "\n",
    "    return predicted_values"
   ]
  },
  {
   "cell_type": "code",
   "execution_count": 29,
   "metadata": {},
   "outputs": [
    {
     "name": "stdout",
     "output_type": "stream",
     "text": [
      "tensor([[  5.8270],\n",
      "        [  7.1000],\n",
      "        [  9.5780],\n",
      "        [ -7.5690],\n",
      "        [  9.9800],\n",
      "        [ -4.2870],\n",
      "        [ 15.8740],\n",
      "        [  9.3100],\n",
      "        [  1.8750],\n",
      "        [ 14.9370],\n",
      "        [-10.2480],\n",
      "        [ 13.8650],\n",
      "        [  2.0760],\n",
      "        [ 11.6550],\n",
      "        [ 15.4720]])\n",
      "tensor([[  5.8270],\n",
      "        [  7.1000],\n",
      "        [  9.5780],\n",
      "        [ -7.5690],\n",
      "        [  9.9800],\n",
      "        [ -4.2870],\n",
      "        [ 15.8740],\n",
      "        [  9.3100],\n",
      "        [  1.8750],\n",
      "        [ 14.9370],\n",
      "        [-10.2480],\n",
      "        [ 13.8650],\n",
      "        [  2.0760],\n",
      "        [ 11.6550],\n",
      "        [ 15.4720]])\n"
     ]
    },
    {
     "data": {
      "text/plain": [
       "tensor([[  5.8270],\n",
       "        [  7.1000],\n",
       "        [  9.5780],\n",
       "        [ -7.5690],\n",
       "        [  9.9800],\n",
       "        [ -4.2870],\n",
       "        [ 15.8740],\n",
       "        [  9.3100],\n",
       "        [  1.8750],\n",
       "        [ 14.9370],\n",
       "        [-10.2480],\n",
       "        [ 13.8650],\n",
       "        [  2.0760],\n",
       "        [ 11.6550],\n",
       "        [ 15.4720]])"
      ]
     },
     "execution_count": 29,
     "metadata": {},
     "output_type": "execute_result"
    }
   ],
   "source": [
    "initial_values = torch.cat([X[-input_size:]]).reshape(1, 1, -1)\n",
    "\n",
    "pred = input_size\n",
    "X_f = torch.tensor(data['HUFL'].values[data_set-pred:data_set-pred+pred*step:step], dtype=torch.float32).view(-1, 1)\n",
    "print(X_f)\n",
    "dataset_f = MyDataset(X_f, pred, output_size)\n",
    "print(dataset_f.data)\n",
    "#print(x.rolling(window_size))\n",
    "\n",
    "dataloader_f = DataLoader(dataset_f)#, shuffle=True)\n",
    "\n",
    "X_f\n"
   ]
  },
  {
   "cell_type": "code",
   "execution_count": 30,
   "metadata": {},
   "outputs": [
    {
     "data": {
      "text/plain": [
       "[[5.827000141143799],\n",
       " [7.099999904632568],\n",
       " [9.57800006866455],\n",
       " [-7.568999767303467],\n",
       " [9.979999542236328],\n",
       " [-4.2870001792907715],\n",
       " [15.87399959564209],\n",
       " [9.3100004196167],\n",
       " [1.875],\n",
       " [14.937000274658203],\n",
       " [-10.248000144958496],\n",
       " [13.864999771118164],\n",
       " [2.0759999752044678],\n",
       " [11.654999732971191],\n",
       " [15.472000122070312]]"
      ]
     },
     "execution_count": 30,
     "metadata": {},
     "output_type": "execute_result"
    }
   ],
   "source": [
    "X_t = X_f.tolist()\n",
    "X_t"
   ]
  },
  {
   "cell_type": "code",
   "execution_count": 35,
   "metadata": {},
   "outputs": [],
   "source": [
    "\n",
    "predicted_values = []\n",
    "\n",
    "\n",
    "\n",
    "\n",
    "    \n",
    "X = torch.tensor([X_t])\n",
    "prediction = model(X)\n",
    "predicted_values = prediction.tolist()[-1][-1]\n",
    "\n",
    "      \n",
    "    \n",
    "\n",
    "\n",
    "future_predictions = predicted_values"
   ]
  },
  {
   "cell_type": "code",
   "execution_count": 37,
   "metadata": {},
   "outputs": [
    {
     "data": {
      "text/plain": [
       "[9.157816886901855,\n",
       " 4.127630233764648,\n",
       " 3.435462474822998,\n",
       " 3.3649544715881348,\n",
       " 2.259443998336792,\n",
       " 5.177505016326904,\n",
       " 7.103431701660156,\n",
       " 5.0743088722229,\n",
       " 8.173192977905273,\n",
       " 8.159629821777344,\n",
       " 3.7868566513061523,\n",
       " 8.918203353881836,\n",
       " 6.028493881225586,\n",
       " 4.300507545471191,\n",
       " 2.959487199783325,\n",
       " 7.764525413513184,\n",
       " 9.798245429992676,\n",
       " 6.328813552856445,\n",
       " 6.913966655731201,\n",
       " 8.430513381958008]"
      ]
     },
     "execution_count": 37,
     "metadata": {},
     "output_type": "execute_result"
    }
   ],
   "source": [
    "predicted_values"
   ]
  },
  {
   "cell_type": "code",
   "execution_count": 38,
   "metadata": {},
   "outputs": [
    {
     "data": {
      "text/plain": [
       "[9.157816886901855,\n",
       " 4.127630233764648,\n",
       " 3.435462474822998,\n",
       " 3.3649544715881348,\n",
       " 2.259443998336792,\n",
       " 5.177505016326904,\n",
       " 7.103431701660156,\n",
       " 5.0743088722229,\n",
       " 8.173192977905273,\n",
       " 8.159629821777344,\n",
       " 3.7868566513061523,\n",
       " 8.918203353881836,\n",
       " 6.028493881225586,\n",
       " 4.300507545471191,\n",
       " 2.959487199783325,\n",
       " 7.764525413513184,\n",
       " 9.798245429992676,\n",
       " 6.328813552856445,\n",
       " 6.913966655731201,\n",
       " 8.430513381958008]"
      ]
     },
     "execution_count": 38,
     "metadata": {},
     "output_type": "execute_result"
    }
   ],
   "source": [
    "future_predictions"
   ]
  },
  {
   "cell_type": "code",
   "execution_count": 39,
   "metadata": {},
   "outputs": [
    {
     "data": {
      "text/plain": [
       "20"
      ]
     },
     "execution_count": 39,
     "metadata": {},
     "output_type": "execute_result"
    }
   ],
   "source": [
    "len(future_predictions)"
   ]
  },
  {
   "cell_type": "code",
   "execution_count": 41,
   "metadata": {},
   "outputs": [
    {
     "name": "stdout",
     "output_type": "stream",
     "text": [
      "Future Predictions: [9.157816886901855, 4.127630233764648, 3.435462474822998, 3.3649544715881348, 2.259443998336792, 5.177505016326904, 7.103431701660156, 5.0743088722229, 8.173192977905273, 8.159629821777344, 3.7868566513061523, 8.918203353881836, 6.028493881225586, 4.300507545471191, 2.959487199783325, 7.764525413513184, 9.798245429992676, 6.328813552856445, 6.913966655731201, 8.430513381958008]\n",
      "10\n"
     ]
    },
    {
     "data": {
      "image/png": "[encoded data removed]",
      "text/plain": [
       "<Figure size 640x480 with 1 Axes>"
      ]
     },
     "metadata": {},
     "output_type": "display_data"
    }
   ],
   "source": [
    "\n",
    "print(\"Future Predictions:\", future_predictions)\n",
    "time = [data_set-output_size*step+i*step for i in range(2*output_size)]\n",
    "print(m)\n",
    "plt.plot(time, data['HUFL'].values[data_set-output_size*step:data_set+(output_size)*step:step])\n",
    "#plt.plot(, )\n",
    "pred = data['HUFL'].values[data_set-1]\n",
    "time = [data_set+1+i*step for i in range(output_size)]\n",
    "\n",
    "    \n",
    "plt.plot(time, future_predictions, 'g--')\n",
    "\n",
    "plt.show()\n",
    "\n",
    "\n",
    "\n"
   ]
  }
 ],
 "metadata": {
  "kernelspec": {
   "display_name": "MyDLinear",
   "language": "python",
   "name": "python3"
  },
  "language_info": {
   "codemirror_mode": {
    "name": "ipython",
    "version": 3
   },
   "file_extension": ".py",
   "mimetype": "text/x-python",
   "name": "python",
   "nbconvert_exporter": "python",
   "pygments_lexer": "ipython3",
   "version": "3.11.6"
  }
 },
 "nbformat": 4,
 "nbformat_minor": 2
}
